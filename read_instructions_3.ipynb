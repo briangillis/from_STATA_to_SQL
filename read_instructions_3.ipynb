{
 "cells": [
  {
   "cell_type": "markdown",
   "metadata": {},
   "source": [
    "# From Stata to SQL\n",
    "We want to take in the stata code provided by ipums and move it to SQL."
   ]
  },
  {
   "cell_type": "markdown",
   "metadata": {},
   "source": [
    "Start by loading the table into SQL with just one column \"X1\""
   ]
  },
  {
   "cell_type": "code",
   "execution_count": 2,
   "metadata": {},
   "outputs": [
    {
     "name": "stdout",
     "output_type": "stream",
     "text": [
      "['int', 'year', '1-4', '///']\n"
     ]
    }
   ],
   "source": [
    "import re\n",
    "import pandas as pd\n",
    "\n",
    "table_name = \"usa16_staging\"\n",
    "f = open(\"C:\\\\Users\\\\brian\\\\usa16\\\\usa16_stata.txt\", \"r\")\n",
    "t_list = list()\n",
    "\n",
    "x = f.readlines()\n",
    "for txt in x:\n",
    "    txt = txt.strip()\n",
    "    txt = re.split(\" +\",txt)\n",
    "    t_list.append(txt)\n",
    "    \n",
    "print(t_list[7])"
   ]
  },
  {
   "cell_type": "markdown",
   "metadata": {},
   "source": [
    "## Splitting off the variables from X1"
   ]
  },
  {
   "cell_type": "code",
   "execution_count": 14,
   "metadata": {},
   "outputs": [
    {
     "data": {
      "text/plain": [
       "'serial =  cast(substring(X1,7, 8) as float)'"
      ]
     },
     "execution_count": 14,
     "metadata": {},
     "output_type": "execute_result"
    }
   ],
   "source": [
    "stata_data_types = [\"int\",\"byte\",\"double\",\"long\"]\n",
    "\n",
    "headers = list()\n",
    "for i in t_list:\n",
    "    if i[0] in stata_data_types:\n",
    "        headers.append(i)\n",
    "        \n",
    "def get_data_type (t):\n",
    "    if t == \"int\":\n",
    "        dt = \"int\"\n",
    "    elif t == \"double\":\n",
    "        dt = \"float\"\n",
    "    else:\n",
    "        dt = \"varchar\"\n",
    "    return(dt)\n",
    "\n",
    "code_list = list()\n",
    "for i in headers:\n",
    "    name = i[1]\n",
    "    start = re.split(\"-+\",i[2])[0]\n",
    "    end = re.split(\"-+\",i[2])[1]\n",
    "    dt = get_data_type(i[0])\n",
    "    c = name + \" =  cast(substring(X1,\" + start + \", \" + str(int(end)-int(start)+1) + \") as \" + dt + \")\"\n",
    "    code_list.append(c)\n",
    "\n",
    "code_list[2]\n"
   ]
  },
  {
   "cell_type": "markdown",
   "metadata": {},
   "source": [
    "## Creating the definition labels"
   ]
  },
  {
   "cell_type": "code",
   "execution_count": 19,
   "metadata": {},
   "outputs": [
    {
     "data": {
      "text/html": [
       "<div>\n",
       "<style>\n",
       "    .dataframe thead tr:only-child th {\n",
       "        text-align: right;\n",
       "    }\n",
       "\n",
       "    .dataframe thead th {\n",
       "        text-align: left;\n",
       "    }\n",
       "\n",
       "    .dataframe tbody tr th {\n",
       "        vertical-align: top;\n",
       "    }\n",
       "</style>\n",
       "<table border=\"1\" class=\"dataframe\">\n",
       "  <thead>\n",
       "    <tr style=\"text-align: right;\">\n",
       "      <th></th>\n",
       "      <th>variable</th>\n",
       "      <th>val</th>\n",
       "      <th>lbl</th>\n",
       "    </tr>\n",
       "  </thead>\n",
       "  <tbody>\n",
       "    <tr>\n",
       "      <th>0</th>\n",
       "      <td>year</td>\n",
       "      <td>1850</td>\n",
       "      <td>`\"1850\"'</td>\n",
       "    </tr>\n",
       "    <tr>\n",
       "      <th>1</th>\n",
       "      <td>year</td>\n",
       "      <td>1860</td>\n",
       "      <td>`\"1860\"',</td>\n",
       "    </tr>\n",
       "    <tr>\n",
       "      <th>2</th>\n",
       "      <td>year</td>\n",
       "      <td>1870</td>\n",
       "      <td>`\"1870\"',</td>\n",
       "    </tr>\n",
       "    <tr>\n",
       "      <th>3</th>\n",
       "      <td>year</td>\n",
       "      <td>1880</td>\n",
       "      <td>`\"1880\"',</td>\n",
       "    </tr>\n",
       "    <tr>\n",
       "      <th>4</th>\n",
       "      <td>year</td>\n",
       "      <td>1900</td>\n",
       "      <td>`\"1900\"',</td>\n",
       "    </tr>\n",
       "  </tbody>\n",
       "</table>\n",
       "</div>"
      ],
      "text/plain": [
       "  variable   val        lbl\n",
       "0     year  1850   `\"1850\"'\n",
       "1     year  1860  `\"1860\"',\n",
       "2     year  1870  `\"1870\"',\n",
       "3     year  1880  `\"1880\"',\n",
       "4     year  1900  `\"1900\"',"
      ]
     },
     "execution_count": 19,
     "metadata": {},
     "output_type": "execute_result"
    }
   ],
   "source": [
    "label_def = list()\n",
    "for i in t_list:\n",
    "    if i[0]==\"label\" and i[1]==\"define\":\n",
    "        label_def.append(i)\n",
    "        \n",
    "# get columns for table\n",
    "variable = list()\n",
    "val = list()\n",
    "lbl = list()\n",
    "\n",
    "for i in label_def:\n",
    "    variable.append(i[2].replace(\"_lbl\",\"\"))\n",
    "    val.append(i[3])    \n",
    "    lbl.append(i[4])\n",
    "\n",
    "sales = [('variable', variable),\n",
    "         ('val', val),\n",
    "         ('lbl', lbl)]\n",
    "    \n",
    "def_lbl = pd.DataFrame.from_items(sales)\n",
    "\n",
    "#print(len(variable), len(val), len(lbl))\n",
    "def_lbl.head()\n",
    "\n",
    "\n",
    "    \n",
    "        "
   ]
  }
 ],
 "metadata": {
  "kernelspec": {
   "display_name": "Python 3",
   "language": "python",
   "name": "python3"
  },
  "language_info": {
   "codemirror_mode": {
    "name": "ipython",
    "version": 3
   },
   "file_extension": ".py",
   "mimetype": "text/x-python",
   "name": "python",
   "nbconvert_exporter": "python",
   "pygments_lexer": "ipython3",
   "version": "3.6.3"
  }
 },
 "nbformat": 4,
 "nbformat_minor": 2
}
